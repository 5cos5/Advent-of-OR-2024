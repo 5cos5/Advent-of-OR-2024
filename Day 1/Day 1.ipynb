{
 "cells": [
  {
   "cell_type": "code",
   "execution_count": 16,
   "metadata": {},
   "outputs": [],
   "source": [
    "import pyomo.environ as pyo\n",
    "\n",
    "from scipy.spatial.distance import pdist, squareform\n",
    "\n",
    "import numpy as np\n",
    "import matplotlib.pyplot as plt\n",
    "import matplotlib as mpl\n",
    "\n",
    "import time\n",
    "from itertools import cycle\n",
    "\n",
    "#from pyomo.contrib.appsi.solvers import Highs\n",
    "import gurobipy\n",
    "import pandas as pd"
   ]
  },
  {
   "cell_type": "code",
   "execution_count": 17,
   "metadata": {},
   "outputs": [],
   "source": [
    "model = pyo.ConcreteModel()"
   ]
  },
  {
   "cell_type": "code",
   "execution_count": 18,
   "metadata": {},
   "outputs": [],
   "source": [
    "N = 100\n",
    "M = 20\n",
    "max_timeslots = 16"
   ]
  },
  {
   "cell_type": "code",
   "execution_count": 19,
   "metadata": {},
   "outputs": [
    {
     "data": {
      "text/plain": [
       "array([  5,   7,   9, ..., 100,  98, 100], dtype=int64)"
      ]
     },
     "execution_count": 19,
     "metadata": {},
     "output_type": "execute_result"
    }
   ],
   "source": [
    "data = np.array(pd.read_csv('data.csv'))\n",
    "# data = data[0:2000]\n",
    "list1 = data.T[0]\n",
    "list2 = data.T[1]\n",
    "list1\n",
    "list2"
   ]
  },
  {
   "cell_type": "markdown",
   "metadata": {},
   "source": [
    "# Sets"
   ]
  },
  {
   "cell_type": "code",
   "execution_count": 20,
   "metadata": {},
   "outputs": [],
   "source": [
    "model.N = pyo.Set(initialize = range(1,N+1))\n",
    "model.M = pyo.Set(initialize = range(1,M+1))\n",
    "model.C = pyo.Set(initialize = range(len(list1)))\n",
    "model.T = pyo.Set(initialize = range(1,max_timeslots+1))"
   ]
  },
  {
   "cell_type": "markdown",
   "metadata": {},
   "source": [
    "## Parameters"
   ]
  },
  {
   "cell_type": "code",
   "execution_count": 21,
   "metadata": {},
   "outputs": [],
   "source": [
    "# model.list1 = pyo.Param(range(len(list1)),initialize= list1)\n",
    "# model.list2 = pyo.Param(range(len(list2)),initialize= list2)"
   ]
  },
  {
   "cell_type": "markdown",
   "metadata": {},
   "source": [
    "# Variables"
   ]
  },
  {
   "cell_type": "code",
   "execution_count": 22,
   "metadata": {},
   "outputs": [],
   "source": [
    "model.X = pyo.Var(model.N, model.M, model.T , within=pyo.Binary)\n",
    "model.Y = pyo.Var(model.M ,model.T, within=pyo.Binary)\n",
    "model.Z = pyo.Var(model.M , within=pyo.Binary)"
   ]
  },
  {
   "cell_type": "markdown",
   "metadata": {},
   "source": [
    "## Constraints"
   ]
  },
  {
   "cell_type": "code",
   "execution_count": null,
   "metadata": {},
   "outputs": [],
   "source": [
    "def visit_once_rule(model,i): \n",
    "    return sum(model.X[i,j,t] for j in model.M for t in model.T) == 1\n",
    "model.visit_once_rule = pyo.Constraint(model.N, rule=visit_once_rule)\n",
    "\n",
    "def event_constraints(model,c,j,t):\n",
    "    return model.X[list1[c],j,t] + model.X[list2[c],j,t] <= model.Y[j,t]\n",
    "model.event_constraints = pyo.Constraint(model.C,model.M,model.T, rule=event_constraints)\n",
    "\n",
    "def one_room_to_event(model,i,j,t): \n",
    "    return model.X[i,j,t] <= model.Z[j]\n",
    "model.one_room_to_event = pyo.Constraint(model.N,model.M, model.T,rule=one_room_to_event)\n",
    "\n",
    "def one_timeslot_to_event(model,j,t): \n",
    "    return sum(model.X[i,j,t] for i in model.N) <= 1\n",
    "model.one_timeslot_to_event = pyo.Constraint(model.M,model.T, rule=one_timeslot_to_event)"
   ]
  },
  {
   "cell_type": "code",
   "execution_count": null,
   "metadata": {},
   "outputs": [],
   "source": [
    "# model.pprint()"
   ]
  },
  {
   "cell_type": "markdown",
   "metadata": {},
   "source": [
    "## Obj"
   ]
  },
  {
   "cell_type": "code",
   "execution_count": null,
   "metadata": {},
   "outputs": [],
   "source": [
    "model.obj = pyo.Objective(\n",
    "    expr=sum(\n",
    "        model.Z[j]\n",
    "        for j in model.M) ,\n",
    "    sense=pyo.minimize,\n",
    ")\n"
   ]
  },
  {
   "cell_type": "code",
   "execution_count": null,
   "metadata": {},
   "outputs": [
    {
     "name": "stdout",
     "output_type": "stream",
     "text": [
      "\n",
      "Welcome to IBM(R) ILOG(R) CPLEX(R) Interactive Optimizer 22.1.1.0\n",
      "  with Simplex, Mixed Integer & Barrier Optimizers\n",
      "5725-A06 5725-A29 5724-Y48 5724-Y49 5724-Y54 5724-Y55 5655-Y21\n",
      "Copyright IBM Corp. 1988, 2022.  All Rights Reserved.\n",
      "\n",
      "Type 'help' for a list of available commands.\n",
      "Type 'help' followed by a command name for more\n",
      "information on commands.\n",
      "\n",
      "CPLEX> Logfile 'cplex.log' closed.\n",
      "Logfile 'C:\\Users\\caleb\\AppData\\Local\\Temp\\tmp7pb8s1q1.cplex.log' open.\n",
      "CPLEX> New value for time limit in seconds: 180\n",
      "CPLEX> New value for default parallel thread count: 4\n",
      "CPLEX> Problem 'C:\\Users\\caleb\\AppData\\Local\\Temp\\tmp6tkr3xf0.pyomo.lp' read.\n",
      "Read time = 1.12 sec. (84.07 ticks)\n",
      "CPLEX> Problem name         : C:\\Users\\caleb\\AppData\\Local\\Temp\\tmp6tkr3xf0.pyomo.lp\n",
      "Objective sense      : Minimize\n",
      "Variables            :   34360  [Binary: 34360]\n",
      "Objective nonzeros   :      20\n",
      "Linear constraints   :  880020  [Less: 879920,  Equal: 100]\n",
      "  Nonzeros           : 2672740\n",
      "  RHS nonzeros       :     440\n",
      "\n",
      "Variables            : Min LB: 0.000000         Max UB: 1.000000       \n",
      "Objective nonzeros   : Min   : 1.000000         Max   : 1.000000       \n",
      "Linear constraints   :\n",
      "  Nonzeros           : Min   : 1.000000         Max   : 1.000000       \n",
      "  RHS nonzeros       : Min   : 1.000000         Max   : 1.000000       \n",
      "CPLEX> Version identifier: 22.1.1.0 | 2022-11-27 | 9160aff4d\n",
      "CPXPARAM_Threads                                 4\n",
      "CPXPARAM_TimeLimit                               180\n",
      "Tried aggregator 1 time.\n",
      "MIP Presolve eliminated 879020 rows and 340 columns.\n",
      "MIP Presolve modified 900 coefficients.\n",
      "Reduced MIP has 1000 rows, 34020 columns, and 78420 nonzeros.\n",
      "Reduced MIP has 34020 binaries, 0 generals, 0 SOSs, and 0 indicators.\n",
      "Presolve time = 1.83 sec. (1165.89 ticks)\n",
      "Found incumbent of value 20.000000 after 2.03 sec. (1307.38 ticks)\n",
      "Tried aggregator 1 time.\n",
      "Detecting symmetries...\n",
      "Reduced MIP has 1000 rows, 34020 columns, and 78420 nonzeros.\n",
      "Reduced MIP has 34020 binaries, 0 generals, 0 SOSs, and 0 indicators.\n",
      "Presolve time = 0.14 sec. (161.68 ticks)\n",
      "Probing time = 0.03 sec. (12.44 ticks)\n",
      "Clique table members: 1000.\n",
      "MIP emphasis: balance optimality and feasibility.\n",
      "MIP search method: dynamic search.\n",
      "Parallel mode: deterministic, using up to 4 threads.\n",
      "Root relaxation solution time = 0.16 sec. (171.82 ticks)\n",
      "\n",
      "        Nodes                                         Cuts/\n",
      "   Node  Left     Objective  IInf  Best Integer    Best Bound    ItCnt     Gap\n",
      "\n",
      "*     0+    0                           20.0000        0.0000           100.00%\n",
      "*     0+    0                            6.0000        0.0000           100.00%\n",
      "      0     0        5.8824    74        6.0000        5.8824     1227    1.96%\n",
      "      0     0        cutoff              6.0000        5.8824     1227    1.96%\n",
      "Elapsed time = 2.45 sec. (1703.84 ticks, tree = 0.01 MB, solutions = 2)\n",
      "\n",
      "Root node processing (before b&c):\n",
      "  Real time             =    2.45 sec. (1705.05 ticks)\n",
      "Parallel b&c, 4 threads:\n",
      "  Real time             =    0.00 sec. (0.00 ticks)\n",
      "  Sync time (average)   =    0.00 sec.\n",
      "  Wait time (average)   =    0.00 sec.\n",
      "                          ------------\n",
      "Total (root+branch&cut) =    2.45 sec. (1705.05 ticks)\n",
      "\n",
      "Solution pool: 2 solutions saved.\n",
      "\n",
      "MIP - Integer optimal solution:  Objective =  6.0000000000e+00\n",
      "Solution time =    2.45 sec.  Iterations = 1227  Nodes = 0\n",
      "Deterministic time = 1705.15 ticks  (695.13 ticks/sec)\n",
      "\n",
      "CPLEX> Incumbent solution written to file 'C:\\Users\\caleb\\AppData\\Local\\Temp\\tmpu274jhlo.cplex.sol'.\n",
      "CPLEX> "
     ]
    }
   ],
   "source": [
    "TIME_LIMIT = 180\n",
    "THREADS = 4\n",
    "\n",
    "SOVLER_ENGINE = 'cplex'\n",
    "#solvers glpk  appsi_highs cplex gurobi gurobi_persistent\n",
    "\n",
    "\n",
    "solver = pyo.SolverFactory(SOVLER_ENGINE)\n",
    "\n",
    "if SOVLER_ENGINE == 'cbc':\n",
    "        solver.options['seconds'] = TIME_LIMIT\n",
    "elif SOVLER_ENGINE == 'glpk':\n",
    "        solver.options['tmlim'] = TIME_LIMIT\n",
    "elif SOVLER_ENGINE == 'appsi_highs':\n",
    "        solver.options['time_limit'] = TIME_LIMIT\n",
    "        #solver.options['parallel'] = True\n",
    "        solver.options['threads'] = THREADS\n",
    "elif SOVLER_ENGINE == 'cplex':\n",
    "        solver.options['timelimit'] = TIME_LIMIT\n",
    "        solver.options['threads'] = THREADS\n",
    "elif SOVLER_ENGINE == 'gurobi':\n",
    "        solver.options['timelimit'] = TIME_LIMIT\n",
    "        solver.options['threads'] = THREADS\n",
    "elif SOVLER_ENGINE == 'gurobi_persistent':\n",
    "        solver.options['timelimit'] = TIME_LIMIT\n",
    "        solver.options['threads'] = THREADS\n",
    "        solver.set_instance(model) # remove model from  solver.solve(tee=True)\n",
    "        solver.set_gurobi_param(\"PoolSolutions\", 500)\n",
    "        solver.set_gurobi_param(\"PoolSearchMode\", 0)\n",
    "\n",
    "# sol = solver.solve(tee= True)\n",
    "sol = solver.solve(model, tee= True) #, warmstart=True , logfile= 'log.txt'"
   ]
  },
  {
   "cell_type": "code",
   "execution_count": null,
   "metadata": {},
   "outputs": [
    {
     "name": "stdout",
     "output_type": "stream",
     "text": [
      "ok\n",
      "optimal\n",
      "6.0\n",
      "Total number of rooms used: 6.0\n"
     ]
    }
   ],
   "source": [
    "print(sol.solver.status)\n",
    "print(sol.solver.termination_condition)\n",
    "print (model.obj())\n",
    "\n",
    "\n",
    "print ('Total number of rooms used:', sum(model.Z[j].value\n",
    "                                               for j in model.M))\n"
   ]
  },
  {
   "cell_type": "code",
   "execution_count": null,
   "metadata": {},
   "outputs": [],
   "source": [
    "# model.display()"
   ]
  },
  {
   "cell_type": "code",
   "execution_count": null,
   "metadata": {},
   "outputs": [
    {
     "name": "stdout",
     "output_type": "stream",
     "text": [
      "Time slot: 1\n",
      "{1: 1, 2: 18, 3: 35, 4: 52, 5: 69, 6: 86}\n",
      "Time slot: 2\n",
      "{1: 2, 2: 19, 3: 36, 4: 53, 5: 70, 6: 87}\n",
      "Time slot: 3\n",
      "{1: 3, 2: 20, 3: 37, 4: 54, 5: 71, 6: 88}\n",
      "Time slot: 4\n",
      "{1: 4, 2: 21, 3: 38, 4: 55, 5: 72, 6: 89}\n",
      "Time slot: 5\n",
      "{1: 5, 2: 22, 3: 39, 4: 56, 5: 73, 6: 90}\n",
      "Time slot: 6\n",
      "{1: 6, 2: 23, 3: 40, 4: 57, 5: 74, 6: 91}\n",
      "Time slot: 7\n",
      "{1: 7, 2: 24, 3: 41, 4: 58, 5: 75, 6: 92}\n",
      "Time slot: 8\n",
      "{1: 8, 2: 25, 3: 42, 4: 59, 5: 76, 6: 93}\n",
      "Time slot: 9\n",
      "{1: 9, 2: 26, 3: 43, 4: 60, 5: 77, 6: 94}\n",
      "Time slot: 10\n",
      "{1: 10, 2: 27, 3: 44, 4: 61, 5: 78, 6: 95}\n",
      "Time slot: 11\n",
      "{1: 11, 2: 28, 3: 45, 4: 62, 5: 79, 6: 96}\n",
      "Time slot: 12\n",
      "{1: 12, 2: 29, 3: 46, 4: 63, 5: 80, 6: 97}\n",
      "Time slot: 13\n",
      "{1: 13, 2: 30, 3: 47, 4: 64, 5: 81, 6: 98}\n",
      "Time slot: 14\n",
      "{1: 14, 2: 31, 3: 48, 4: 65, 5: 82, 6: 99}\n",
      "Time slot: 15\n",
      "{1: 15, 2: 32, 3: 49, 4: 66, 5: 83, 6: 100}\n",
      "Time slot: 16\n",
      "{1: 16, 2: 33, 3: 50, 4: 67, 5: 84}\n",
      "Time slot: 17\n",
      "{1: 17, 2: 34, 3: 51, 4: 68, 5: 85}\n"
     ]
    }
   ],
   "source": [
    "for t in model.T:\n",
    "    print (\"Time slot:\", t)\n",
    "    time_dict = {}\n",
    "    for j in model.M:\n",
    "        for i in model.N:\n",
    "            if model.X[i,j,t].value == 1:\n",
    "                time_dict[j] = i\n",
    "    print (time_dict)"
   ]
  },
  {
   "cell_type": "code",
   "execution_count": null,
   "metadata": {},
   "outputs": [
    {
     "name": "stdout",
     "output_type": "stream",
     "text": [
      "Room Number: 1\n",
      "Number of events: 17.0 \n",
      "\n",
      "Room Number: 2\n",
      "Number of events: 17.0 \n",
      "\n",
      "Room Number: 3\n",
      "Number of events: 17.0 \n",
      "\n",
      "Room Number: 4\n",
      "Number of events: 17.0 \n",
      "\n",
      "Room Number: 5\n",
      "Number of events: 17.0 \n",
      "\n",
      "Room Number: 6\n",
      "Number of events: 15.0 \n",
      "\n"
     ]
    }
   ],
   "source": [
    "# Events per room\n",
    "\n",
    "for j in model.M:\n",
    "    events = sum(model.X[i,j,t].value for i in model.N for t in model.T)\n",
    "    if events >0:\n",
    "        print (\"Room Number:\", j)\n",
    "        print (\"Number of events:\", events, '\\n')"
   ]
  }
 ],
 "metadata": {
  "kernelspec": {
   "display_name": "Opti",
   "language": "python",
   "name": "python3"
  },
  "language_info": {
   "codemirror_mode": {
    "name": "ipython",
    "version": 3
   },
   "file_extension": ".py",
   "mimetype": "text/x-python",
   "name": "python",
   "nbconvert_exporter": "python",
   "pygments_lexer": "ipython3",
   "version": "3.9.19"
  }
 },
 "nbformat": 4,
 "nbformat_minor": 2
}
