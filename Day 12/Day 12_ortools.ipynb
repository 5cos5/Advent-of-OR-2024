{
 "cells": [
  {
   "cell_type": "code",
   "execution_count": 29,
   "metadata": {},
   "outputs": [],
   "source": [
    "from ortools.constraint_solver import routing_enums_pb2\n",
    "from ortools.constraint_solver import pywrapcp\n",
    "import numpy as np"
   ]
  },
  {
   "cell_type": "code",
   "execution_count": 30,
   "metadata": {},
   "outputs": [],
   "source": [
    "data = []\n",
    "N =443\n",
    "with open(r'data.txt', 'r') as f:\n",
    "    file_lines = f.readlines()\n",
    "for line in file_lines:\n",
    "    line =line.replace(\"\\n\", \"\")\n",
    "    line = line.split(' ')\n",
    "    for i in line:\n",
    "        try:\n",
    "            data.append(int(i))\n",
    "        except:\n",
    "            continue\n",
    "distance_data= np.array(data).reshape((N,N))"
   ]
  },
  {
   "cell_type": "code",
   "execution_count": 31,
   "metadata": {},
   "outputs": [],
   "source": [
    "def create_data_model():\n",
    "    \"\"\"Stores the data for the problem.\"\"\"\n",
    "    data = {}\n",
    "    data[\"distance_matrix\"] = distance_data\n",
    "    data[\"num_vehicles\"] = 1\n",
    "    data[\"depot\"] = 0\n",
    "    return data"
   ]
  },
  {
   "cell_type": "markdown",
   "metadata": {},
   "source": [
    "## Routing Model"
   ]
  },
  {
   "cell_type": "code",
   "execution_count": 32,
   "metadata": {},
   "outputs": [],
   "source": [
    "data = create_data_model()\n",
    "manager = pywrapcp.RoutingIndexManager(\n",
    "    len(data[\"distance_matrix\"]), data[\"num_vehicles\"], data[\"depot\"]\n",
    ")\n",
    "routing = pywrapcp.RoutingModel(manager)"
   ]
  },
  {
   "cell_type": "code",
   "execution_count": 33,
   "metadata": {},
   "outputs": [],
   "source": [
    "def distance_callback(from_index, to_index):\n",
    "    \"\"\"Returns the distance between the two nodes.\"\"\"\n",
    "    # Convert from routing variable Index to distance matrix NodeIndex.\n",
    "    from_node = manager.IndexToNode(from_index)\n",
    "    to_node = manager.IndexToNode(to_index)\n",
    "    return data[\"distance_matrix\"][from_node][to_node]\n",
    "\n",
    "transit_callback_index = routing.RegisterTransitCallback(distance_callback)\n",
    "  "
   ]
  },
  {
   "cell_type": "markdown",
   "metadata": {},
   "source": [
    "## Set cost of travel"
   ]
  },
  {
   "cell_type": "code",
   "execution_count": 34,
   "metadata": {},
   "outputs": [],
   "source": [
    "routing.SetArcCostEvaluatorOfAllVehicles(transit_callback_index)"
   ]
  },
  {
   "cell_type": "markdown",
   "metadata": {},
   "source": [
    "## Set search Parameters"
   ]
  },
  {
   "cell_type": "code",
   "execution_count": 35,
   "metadata": {},
   "outputs": [],
   "source": [
    "search_parameters = pywrapcp.DefaultRoutingSearchParameters()\n",
    "\n",
    "search_parameters.first_solution_strategy = (\n",
    "    routing_enums_pb2.FirstSolutionStrategy.PATH_CHEAPEST_ARC\n",
    ")"
   ]
  },
  {
   "cell_type": "code",
   "execution_count": 36,
   "metadata": {},
   "outputs": [],
   "source": [
    "def print_solution(manager, routing, solution):\n",
    "    \"\"\"Prints solution on console.\"\"\"\n",
    "    print(f\"Objective: {solution.ObjectiveValue()} miles\")\n",
    "    index = routing.Start(0)\n",
    "    plan_output = \"Route for vehicle 0:\\n\"\n",
    "    route_distance = 0\n",
    "    while not routing.IsEnd(index):\n",
    "        plan_output += f\" {manager.IndexToNode(index)} ->\"\n",
    "        previous_index = index\n",
    "        index = solution.Value(routing.NextVar(index))\n",
    "        route_distance += routing.GetArcCostForVehicle(previous_index, index, 0)\n",
    "    plan_output += f\" {manager.IndexToNode(index)}\\n\"\n",
    "    print(plan_output)\n",
    "    plan_output += f\"Route distance: {route_distance}miles\\n\""
   ]
  },
  {
   "cell_type": "code",
   "execution_count": 37,
   "metadata": {},
   "outputs": [
    {
     "name": "stdout",
     "output_type": "stream",
     "text": [
      "Objective: 2763 miles\n",
      "Route for vehicle 0:\n",
      " 0 -> 269 -> 166 -> 87 -> 427 -> 423 -> 422 -> 442 -> 392 -> 388 -> 441 -> 437 -> 436 -> 434 -> 414 -> 402 -> 433 -> 428 -> 426 -> 432 -> 409 -> 404 -> 311 -> 415 -> 431 -> 413 -> 395 -> 430 -> 418 -> 412 -> 429 -> 425 -> 424 -> 420 -> 111 -> 194 -> 24 -> 301 -> 242 -> 231 -> 155 -> 108 -> 165 -> 419 -> 277 -> 196 -> 101 -> 224 -> 227 -> 331 -> 195 -> 176 -> 69 -> 190 -> 104 -> 46 -> 284 -> 247 -> 233 -> 173 -> 107 -> 114 -> 184 -> 254 -> 93 -> 105 -> 323 -> 362 -> 379 -> 361 -> 278 -> 271 -> 360 -> 106 -> 342 -> 283 -> 302 -> 356 -> 186 -> 171 -> 160 -> 84 -> 55 -> 349 -> 332 -> 213 -> 294 -> 115 -> 210 -> 91 -> 193 -> 45 -> 28 -> 6 -> 65 -> 256 -> 159 -> 335 -> 312 -> 371 -> 347 -> 264 -> 255 -> 346 -> 318 -> 316 -> 174 -> 267 -> 344 -> 41 -> 345 -> 62 -> 188 -> 74 -> 26 -> 187 -> 83 -> 51 -> 343 -> 244 -> 232 -> 36 -> 372 -> 52 -> 341 -> 38 -> 370 -> 200 -> 49 -> 151 -> 85 -> 306 -> 340 -> 211 -> 48 -> 272 -> 339 -> 265 -> 25 -> 336 -> 229 -> 179 -> 126 -> 125 -> 438 -> 359 -> 94 -> 39 -> 334 -> 243 -> 68 -> 50 -> 22 -> 330 -> 257 -> 5 -> 177 -> 375 -> 304 -> 329 -> 215 -> 221 -> 88 -> 303 -> 279 -> 238 -> 327 -> 207 -> 162 -> 421 -> 130 -> 134 -> 80 -> 181 -> 172 -> 234 -> 137 -> 78 -> 47 -> 143 -> 8 -> 64 -> 322 -> 117 -> 164 -> 124 -> 122 -> 309 -> 261 -> 297 -> 183 -> 307 -> 20 -> 305 -> 248 -> 236 -> 63 -> 35 -> 170 -> 112 -> 110 -> 296 -> 169 -> 30 -> 33 -> 58 -> 295 -> 57 -> 290 -> 260 -> 167 -> 149 -> 148 -> 163 -> 153 -> 156 -> 161 -> 138 -> 56 -> 158 -> 96 -> 71 -> 157 -> 23 -> 154 -> 150 -> 76 -> 102 -> 129 -> 141 -> 180 -> 44 -> 198 -> 34 -> 135 -> 17 -> 3 -> 201 -> 202 -> 182 -> 37 -> 109 -> 218 -> 204 -> 208 -> 118 -> 214 -> 40 -> 216 -> 95 -> 398 -> 2 -> 9 -> 61 -> 16 -> 223 -> 73 -> 203 -> 79 -> 230 -> 240 -> 209 -> 116 -> 197 -> 140 -> 235 -> 19 -> 222 -> 147 -> 81 -> 378 -> 417 -> 390 -> 142 -> 97 -> 376 -> 313 -> 439 -> 416 -> 350 -> 252 -> 75 -> 266 -> 293 -> 353 -> 411 -> 175 -> 410 -> 383 -> 299 -> 12 -> 317 -> 315 -> 408 -> 440 -> 393 -> 391 -> 385 -> 407 -> 291 -> 241 -> 270 -> 406 -> 389 -> 381 -> 405 -> 348 -> 275 -> 274 -> 373 -> 374 -> 368 -> 358 -> 403 -> 365 -> 401 -> 380 -> 253 -> 310 -> 352 -> 400 -> 338 -> 70 -> 72 -> 82 -> 333 -> 399 -> 320 -> 325 -> 357 -> 258 -> 286 -> 217 -> 89 -> 363 -> 397 -> 355 -> 321 -> 123 -> 136 -> 246 -> 396 -> 394 -> 225 -> 281 -> 205 -> 199 -> 251 -> 239 -> 387 -> 185 -> 228 -> 386 -> 77 -> 384 -> 152 -> 382 -> 314 -> 308 -> 377 -> 319 -> 324 -> 206 -> 369 -> 113 -> 189 -> 86 -> 32 -> 131 -> 326 -> 263 -> 262 -> 273 -> 178 -> 367 -> 354 -> 245 -> 366 -> 328 -> 292 -> 249 -> 237 -> 128 -> 139 -> 259 -> 121 -> 132 -> 298 -> 250 -> 103 -> 268 -> 192 -> 191 -> 276 -> 212 -> 282 -> 168 -> 133 -> 42 -> 285 -> 219 -> 287 -> 146 -> 145 -> 288 -> 226 -> 351 -> 31 -> 289 -> 10 -> 127 -> 54 -> 120 -> 15 -> 300 -> 60 -> 119 -> 144 -> 92 -> 100 -> 53 -> 27 -> 67 -> 98 -> 280 -> 14 -> 220 -> 66 -> 18 -> 29 -> 59 -> 435 -> 43 -> 99 -> 21 -> 90 -> 13 -> 364 -> 11 -> 337 -> 7 -> 4 -> 1 -> 0\n",
      "\n"
     ]
    }
   ],
   "source": [
    "solution = routing.SolveWithParameters(search_parameters)\n",
    "if solution:\n",
    "    print_solution(manager, routing, solution)"
   ]
  },
  {
   "cell_type": "code",
   "execution_count": 38,
   "metadata": {},
   "outputs": [],
   "source": [
    "def get_routes(solution, routing, manager):\n",
    "    \"\"\"Get vehicle routes from a solution and store them in an array.\"\"\"\n",
    "    # Get vehicle routes and store them in a two dimensional array whose\n",
    "    # i,j entry is the jth location visited by vehicle i along its route.\n",
    "    routes = []\n",
    "    for route_nbr in range(routing.vehicles()):\n",
    "        index = routing.Start(route_nbr)\n",
    "        route = [manager.IndexToNode(index)]\n",
    "        while not routing.IsEnd(index):\n",
    "            index = solution.Value(routing.NextVar(index))\n",
    "            route.append(manager.IndexToNode(index))\n",
    "        routes.append(route)\n",
    "    return routes"
   ]
  },
  {
   "cell_type": "code",
   "execution_count": 39,
   "metadata": {},
   "outputs": [
    {
     "name": "stdout",
     "output_type": "stream",
     "text": [
      "Route 0 [0, 269, 166, 87, 427, 423, 422, 442, 392, 388, 441, 437, 436, 434, 414, 402, 433, 428, 426, 432, 409, 404, 311, 415, 431, 413, 395, 430, 418, 412, 429, 425, 424, 420, 111, 194, 24, 301, 242, 231, 155, 108, 165, 419, 277, 196, 101, 224, 227, 331, 195, 176, 69, 190, 104, 46, 284, 247, 233, 173, 107, 114, 184, 254, 93, 105, 323, 362, 379, 361, 278, 271, 360, 106, 342, 283, 302, 356, 186, 171, 160, 84, 55, 349, 332, 213, 294, 115, 210, 91, 193, 45, 28, 6, 65, 256, 159, 335, 312, 371, 347, 264, 255, 346, 318, 316, 174, 267, 344, 41, 345, 62, 188, 74, 26, 187, 83, 51, 343, 244, 232, 36, 372, 52, 341, 38, 370, 200, 49, 151, 85, 306, 340, 211, 48, 272, 339, 265, 25, 336, 229, 179, 126, 125, 438, 359, 94, 39, 334, 243, 68, 50, 22, 330, 257, 5, 177, 375, 304, 329, 215, 221, 88, 303, 279, 238, 327, 207, 162, 421, 130, 134, 80, 181, 172, 234, 137, 78, 47, 143, 8, 64, 322, 117, 164, 124, 122, 309, 261, 297, 183, 307, 20, 305, 248, 236, 63, 35, 170, 112, 110, 296, 169, 30, 33, 58, 295, 57, 290, 260, 167, 149, 148, 163, 153, 156, 161, 138, 56, 158, 96, 71, 157, 23, 154, 150, 76, 102, 129, 141, 180, 44, 198, 34, 135, 17, 3, 201, 202, 182, 37, 109, 218, 204, 208, 118, 214, 40, 216, 95, 398, 2, 9, 61, 16, 223, 73, 203, 79, 230, 240, 209, 116, 197, 140, 235, 19, 222, 147, 81, 378, 417, 390, 142, 97, 376, 313, 439, 416, 350, 252, 75, 266, 293, 353, 411, 175, 410, 383, 299, 12, 317, 315, 408, 440, 393, 391, 385, 407, 291, 241, 270, 406, 389, 381, 405, 348, 275, 274, 373, 374, 368, 358, 403, 365, 401, 380, 253, 310, 352, 400, 338, 70, 72, 82, 333, 399, 320, 325, 357, 258, 286, 217, 89, 363, 397, 355, 321, 123, 136, 246, 396, 394, 225, 281, 205, 199, 251, 239, 387, 185, 228, 386, 77, 384, 152, 382, 314, 308, 377, 319, 324, 206, 369, 113, 189, 86, 32, 131, 326, 263, 262, 273, 178, 367, 354, 245, 366, 328, 292, 249, 237, 128, 139, 259, 121, 132, 298, 250, 103, 268, 192, 191, 276, 212, 282, 168, 133, 42, 285, 219, 287, 146, 145, 288, 226, 351, 31, 289, 10, 127, 54, 120, 15, 300, 60, 119, 144, 92, 100, 53, 27, 67, 98, 280, 14, 220, 66, 18, 29, 59, 435, 43, 99, 21, 90, 13, 364, 11, 337, 7, 4, 1, 0]\n"
     ]
    }
   ],
   "source": [
    "routes = get_routes(solution, routing, manager)\n",
    "# Display the routes.\n",
    "for i, route in enumerate(routes):\n",
    "  print('Route', i, route)"
   ]
  },
  {
   "cell_type": "code",
   "execution_count": 40,
   "metadata": {},
   "outputs": [
    {
     "data": {
      "text/plain": [
       "array([  0, 269, 166,  87, 427, 423, 422, 442, 392, 388, 441, 437, 436,\n",
       "       434, 414, 402, 433, 428, 426, 432, 409, 404, 311, 415, 431, 413,\n",
       "       395, 430, 418, 412, 429, 425, 424, 420, 111, 194,  24, 301, 242,\n",
       "       231, 155, 108, 165, 419, 277, 196, 101, 224, 227, 331, 195, 176,\n",
       "        69, 190, 104,  46, 284, 247, 233, 173, 107, 114, 184, 254,  93,\n",
       "       105, 323, 362, 379, 361, 278, 271, 360, 106, 342, 283, 302, 356,\n",
       "       186, 171, 160,  84,  55, 349, 332, 213, 294, 115, 210,  91, 193,\n",
       "        45,  28,   6,  65, 256, 159, 335, 312, 371, 347, 264, 255, 346,\n",
       "       318, 316, 174, 267, 344,  41, 345,  62, 188,  74,  26, 187,  83,\n",
       "        51, 343, 244, 232,  36, 372,  52, 341,  38, 370, 200,  49, 151,\n",
       "        85, 306, 340, 211,  48, 272, 339, 265,  25, 336, 229, 179, 126,\n",
       "       125, 438, 359,  94,  39, 334, 243,  68,  50,  22, 330, 257,   5,\n",
       "       177, 375, 304, 329, 215, 221,  88, 303, 279, 238, 327, 207, 162,\n",
       "       421, 130, 134,  80, 181, 172, 234, 137,  78,  47, 143,   8,  64,\n",
       "       322, 117, 164, 124, 122, 309, 261, 297, 183, 307,  20, 305, 248,\n",
       "       236,  63,  35, 170, 112, 110, 296, 169,  30,  33,  58, 295,  57,\n",
       "       290, 260, 167, 149, 148, 163, 153, 156, 161, 138,  56, 158,  96,\n",
       "        71, 157,  23, 154, 150,  76, 102, 129, 141, 180,  44, 198,  34,\n",
       "       135,  17,   3, 201, 202, 182,  37, 109, 218, 204, 208, 118, 214,\n",
       "        40, 216,  95, 398,   2,   9,  61,  16, 223,  73, 203,  79, 230,\n",
       "       240, 209, 116, 197, 140, 235,  19, 222, 147,  81, 378, 417, 390,\n",
       "       142,  97, 376, 313, 439, 416, 350, 252,  75, 266, 293, 353, 411,\n",
       "       175, 410, 383, 299,  12, 317, 315, 408, 440, 393, 391, 385, 407,\n",
       "       291, 241, 270, 406, 389, 381, 405, 348, 275, 274, 373, 374, 368,\n",
       "       358, 403, 365, 401, 380, 253, 310, 352, 400, 338,  70,  72,  82,\n",
       "       333, 399, 320, 325, 357, 258, 286, 217,  89, 363, 397, 355, 321,\n",
       "       123, 136, 246, 396, 394, 225, 281, 205, 199, 251, 239, 387, 185,\n",
       "       228, 386,  77, 384, 152, 382, 314, 308, 377, 319, 324, 206, 369,\n",
       "       113, 189,  86,  32, 131, 326, 263, 262, 273, 178, 367, 354, 245,\n",
       "       366, 328, 292, 249, 237, 128, 139, 259, 121, 132, 298, 250, 103,\n",
       "       268, 192, 191, 276, 212, 282, 168, 133,  42, 285, 219, 287, 146,\n",
       "       145, 288, 226, 351,  31, 289,  10, 127,  54, 120,  15, 300,  60,\n",
       "       119, 144,  92, 100,  53,  27,  67,  98, 280,  14, 220,  66,  18,\n",
       "        29,  59, 435,  43,  99,  21,  90,  13, 364,  11, 337,   7,   4,\n",
       "         1,   0])"
      ]
     },
     "execution_count": 40,
     "metadata": {},
     "output_type": "execute_result"
    }
   ],
   "source": [
    "np.array(routes[0])"
   ]
  }
 ],
 "metadata": {
  "kernelspec": {
   "display_name": "Opti",
   "language": "python",
   "name": "python3"
  },
  "language_info": {
   "codemirror_mode": {
    "name": "ipython",
    "version": 3
   },
   "file_extension": ".py",
   "mimetype": "text/x-python",
   "name": "python",
   "nbconvert_exporter": "python",
   "pygments_lexer": "ipython3",
   "version": "3.9.19"
  }
 },
 "nbformat": 4,
 "nbformat_minor": 2
}
