{
 "cells": [
  {
   "cell_type": "code",
   "execution_count": 1,
   "metadata": {},
   "outputs": [],
   "source": [
    "import pyomo.environ as pyo\n",
    "import numpy as np"
   ]
  },
  {
   "cell_type": "code",
   "execution_count": 15,
   "metadata": {},
   "outputs": [],
   "source": [
    "data = []\n",
    "N = 443\n",
    "with open(r'data.txt', 'r') as f:\n",
    "    file_lines = f.readlines()\n",
    "for line in file_lines:\n",
    "    line =line.replace(\"\\n\", \"\")\n",
    "    line = line.split(' ')\n",
    "    for i in line:\n",
    "        try:\n",
    "            data.append(int(i))\n",
    "        except:\n",
    "            continue\n",
    "data= np.array(data).reshape((N,N))"
   ]
  },
  {
   "cell_type": "code",
   "execution_count": 16,
   "metadata": {},
   "outputs": [
    {
     "data": {
      "text/plain": [
       "array([[ 0, 11, 10, ..., 14, 24, 24],\n",
       "       [ 0,  0, 11, ..., 15, 24, 24],\n",
       "       [11, 12,  0, ..., 15, 25, 25],\n",
       "       ...,\n",
       "       [23, 21, 23, ...,  0, 12, 12],\n",
       "       [12, 14, 11, ..., 18,  0, 26],\n",
       "       [23, 21, 23, ..., 16, 14,  0]])"
      ]
     },
     "execution_count": 16,
     "metadata": {},
     "output_type": "execute_result"
    }
   ],
   "source": [
    "data"
   ]
  },
  {
   "cell_type": "code",
   "execution_count": 4,
   "metadata": {},
   "outputs": [],
   "source": [
    "model = pyo.ConcreteModel()"
   ]
  },
  {
   "cell_type": "markdown",
   "metadata": {},
   "source": [
    "## Sets"
   ]
  },
  {
   "cell_type": "code",
   "execution_count": 5,
   "metadata": {},
   "outputs": [],
   "source": [
    "model.D = pyo.Set(initialize=range(1,N))\n",
    "model.N = pyo.Set(initialize=range(N)) \n",
    "\n",
    "model.A = pyo.Set(initialize=[(i, j) for i in model.N for j in model.N if i != j]) #set of arcs"
   ]
  },
  {
   "cell_type": "markdown",
   "metadata": {},
   "source": [
    "## Variables"
   ]
  },
  {
   "cell_type": "code",
   "execution_count": 6,
   "metadata": {},
   "outputs": [],
   "source": [
    "model.X = pyo.Var(model.A, within=pyo.Binary) # decision to move along arc ij\n",
    "model.T = pyo.Var(model.N, within=pyo.NonNegativeIntegers, bounds = (0,N))"
   ]
  },
  {
   "cell_type": "markdown",
   "metadata": {},
   "source": [
    "## Constraints"
   ]
  },
  {
   "cell_type": "code",
   "execution_count": 7,
   "metadata": {},
   "outputs": [],
   "source": [
    "M =1e8"
   ]
  },
  {
   "cell_type": "code",
   "execution_count": 8,
   "metadata": {},
   "outputs": [],
   "source": [
    "def arcs_out_rule(model, i): \n",
    "    return sum(model.X[i, j] for j in model.N if i != j) == 1\n",
    "model.arcs_out_rule = pyo.Constraint(model.N, rule=arcs_out_rule)\n",
    "\n",
    "def arcs_in_rule(model, i): \n",
    "    return sum(model.X[j, i] for j in model.N if i != j) == 1\n",
    "model.arcs_in_rule = pyo.Constraint(model.N, rule=arcs_in_rule)\n",
    "\n",
    "def subtour_elmination(model,i,j):\n",
    "    if i == j:\n",
    "        return pyo.Constraint.Skip\n",
    "    else:\n",
    "        return model.T[j] >= model.T[i] +1 - M*(1-model.X[i,j])\n",
    "model.subtour_elmination = pyo.Constraint(model.D, model.D, rule=subtour_elmination)"
   ]
  },
  {
   "cell_type": "markdown",
   "metadata": {},
   "source": [
    "## Objective"
   ]
  },
  {
   "cell_type": "code",
   "execution_count": 9,
   "metadata": {},
   "outputs": [],
   "source": [
    "#obj to minimise travel cost\n",
    "model.obj = pyo.Objective(\n",
    "    expr=sum(\n",
    "        model.X[i, j] * data[i,j]\n",
    "        for (i, j) in model.A), \n",
    "    sense=pyo.minimize,\n",
    ")"
   ]
  },
  {
   "cell_type": "code",
   "execution_count": 10,
   "metadata": {},
   "outputs": [
    {
     "name": "stdout",
     "output_type": "stream",
     "text": [
      "Set parameter Username\n",
      "Academic license - for non-commercial use only - expires 2025-08-13\n",
      "Read LP format model from file C:\\Users\\caleb\\AppData\\Local\\Temp\\tmpo96qy50q.pyomo.lp\n",
      "Reading time = 1.12 seconds\n",
      "x1: 195808 rows, 196248 columns, 976378 nonzeros\n",
      "Set parameter TimeLimit to value 180\n",
      "Set parameter Threads to value 4\n",
      "Gurobi Optimizer version 11.0.3 build v11.0.3rc0 (win64 - Windows 10.0 (19045.2))\n",
      "\n",
      "CPU model: Intel(R) Core(TM) i7-10510U CPU @ 1.80GHz, instruction set [SSE2|AVX|AVX2]\n",
      "Thread count: 4 physical cores, 8 logical processors, using up to 4 threads\n",
      "\n",
      "Optimize a model with 195808 rows, 196248 columns and 976378 nonzeros\n",
      "Model fingerprint: 0x026da6d9\n",
      "Variable types: 0 continuous, 196248 integer (195806 binary)\n",
      "Coefficient statistics:\n",
      "  Matrix range     [1e+00, 1e+08]\n",
      "  Objective range  [1e+00, 3e+01]\n",
      "  Bounds range     [1e+00, 4e+02]\n",
      "  RHS range        [1e+00, 1e+08]\n",
      "Presolve time: 2.46s\n",
      "Presolved: 195808 rows, 196248 columns, 976378 nonzeros\n",
      "Variable types: 0 continuous, 196248 integer (195806 binary)\n",
      "Deterministic concurrent LP optimizer: primal simplex, dual simplex, and barrier\n",
      "Showing barrier log only...\n",
      "\n",
      "Root barrier log...\n",
      "\n",
      "Ordering time: 0.17s\n",
      "\n",
      "Barrier statistics:\n",
      " Dense cols : 324\n",
      " AA' NZ     : 5.240e+05\n",
      " Factor NZ  : 9.968e+05 (roughly 100 MB of memory)\n",
      " Factor Ops : 3.094e+08 (less than 1 second per iteration)\n",
      " Threads    : 1\n",
      "\n",
      "                  Objective                Residual\n",
      "Iter       Primal          Dual         Primal    Dual     Compl     Time\n",
      "   0   1.04382916e+08 -3.27926659e+06  3.71e+04 4.87e+01  1.14e+05    19s\n",
      "   1   5.61752403e+07 -7.17987815e+08  1.99e+04 1.54e+00  6.07e+04    19s\n",
      "   2   2.05071722e+07 -6.63281224e+08  7.22e+03 4.51e-10  2.22e+04    19s\n",
      "   3   4.84666761e+06 -4.62292122e+08  1.67e+03 2.51e-10  5.58e+03    20s\n",
      "   4   3.37364131e+05 -8.42956675e+07  1.12e+02 1.28e-10  4.74e+02    20s\n",
      "\n",
      "Barrier performed 4 iterations in 19.87 seconds (10.94 work units)\n",
      "Barrier solve interrupted - model solved by another algorithm\n",
      "\n",
      "Concurrent spin time: 0.63s (can be avoided by choosing Method=3)\n",
      "\n",
      "Solved with primal simplex\n",
      "\n",
      "Root simplex log...\n",
      "\n",
      "Iteration    Objective       Primal Inf.    Dual Inf.      Time\n",
      "    6650    2.7200000e+03   0.000000e+00   0.000000e+00     20s\n",
      "\n",
      "Use crossover to convert LP symmetric solution to basic solution...\n",
      "\n",
      "Root crossover log...\n",
      "\n",
      "     875 DPushes remaining with DInf 0.0000000e+00                20s\n",
      "       0 DPushes remaining with DInf 0.0000000e+00                20s\n",
      "\n",
      "    1986 PPushes remaining with PInf 0.0000000e+00                20s\n",
      "       0 PPushes remaining with PInf 0.0000000e+00                20s\n",
      "\n",
      "  Push phase complete: Pinf 0.0000000e+00, Dinf 3.5500000e+01     21s\n",
      "\n",
      "\n",
      "Root simplex log...\n",
      "\n",
      "Iteration    Objective       Primal Inf.    Dual Inf.      Time\n",
      "    9437    2.7200000e+03   0.000000e+00   3.550000e+01     21s\n",
      "    9449    2.7200000e+03   0.000000e+00   0.000000e+00     21s\n",
      "\n",
      "Root relaxation: objective 2.720000e+03, 9449 iterations, 3.70 seconds (1.27 work units)\n",
      "Total elapsed time = 33.52s (DegenMoves)\n",
      "Total elapsed time = 55.06s (DegenMoves)\n",
      "Total elapsed time = 62.91s (DegenMoves)\n",
      "\n",
      "    Nodes    |    Current Node    |     Objective Bounds      |     Work\n",
      " Expl Unexpl |  Obj  Depth IntInf | Incumbent    BestBd   Gap | It/Node Time\n",
      "\n",
      "     0     0 2720.00000    0  139          - 2720.00000      -     -   69s\n",
      "     0     0 2720.00000    0  704          - 2720.00000      -     -   96s\n",
      "H    0     0                    2720.0000000 2720.00000  0.00%     -  107s\n",
      "     0     0 2720.00000    0  704 2720.00000 2720.00000  0.00%     -  107s\n",
      "\n",
      "Cutting planes:\n",
      "  Gomory: 3\n",
      "  Implied bound: 22\n",
      "  MIR: 34\n",
      "  RLT: 1\n",
      "  BQP: 3\n",
      "\n",
      "Explored 1 nodes (38143 simplex iterations) in 107.58 seconds (57.29 work units)\n",
      "Thread count was 4 (of 8 available processors)\n",
      "\n",
      "Solution count 1: 2720 \n",
      "\n",
      "Optimal solution found (tolerance 1.00e-04)\n",
      "Best objective 2.720000000000e+03, best bound 2.720000000000e+03, gap 0.0000%\n"
     ]
    }
   ],
   "source": [
    "TIME_LIMIT = 180\n",
    "THREADS = 4\n",
    "\n",
    "SOVLER_ENGINE = 'gurobi'\n",
    "#solvers glpk  appsi_highs cplex gurobi gurobi_persistent\n",
    "\n",
    "\n",
    "solver = pyo.SolverFactory(SOVLER_ENGINE)\n",
    "#solver.options['tmlim'] = TIME_LIMIT\n",
    "\n",
    "if SOVLER_ENGINE == 'cbc':\n",
    "        solver.options['seconds'] = TIME_LIMIT\n",
    "elif SOVLER_ENGINE == 'glpk':\n",
    "        solver.options['tmlim'] = TIME_LIMIT\n",
    "elif SOVLER_ENGINE == 'appsi_highs':\n",
    "        solver.options['time_limit'] = TIME_LIMIT\n",
    "        solver.options['parallel'] = 'on'\n",
    "        solver.options['threads'] = THREADS\n",
    "elif SOVLER_ENGINE == 'cplex':\n",
    "        solver.options['timelimit'] = TIME_LIMIT\n",
    "        solver.options['threads'] = THREADS\n",
    "elif SOVLER_ENGINE == 'gurobi':\n",
    "        solver.options['timelimit'] = TIME_LIMIT\n",
    "        solver.options['threads'] = THREADS\n",
    "\n",
    "elif SOVLER_ENGINE == 'gurobi_persistent':\n",
    "        solver.options['timelimit'] = TIME_LIMIT\n",
    "        solver.options['threads'] = THREADS\n",
    "        solver.set_instance(model) # remove model from  solver.solve(tee=True)\n",
    "        solver.set_gurobi_param(\"PoolSolutions\", 500)\n",
    "        solver.set_gurobi_param(\"PoolSearchMode\", 0)\n",
    "\n",
    "#solver.options['time_limit'] = TIME_LIMIT\n",
    "#\n",
    "# sol = solver.solve(tee= True)\n",
    "sol = solver.solve(model,tee= True) #, warmstart=True , logfile= 'log.txt'"
   ]
  },
  {
   "cell_type": "code",
   "execution_count": 11,
   "metadata": {},
   "outputs": [
    {
     "name": "stdout",
     "output_type": "stream",
     "text": [
      "2720.0\n",
      "Total travel time: 2720.0\n"
     ]
    }
   ],
   "source": [
    "print (model.obj())\n",
    "print ('Total travel time:', sum(model.X[i,j].value * data[i,j]\n",
    "                                               for (i,j) in model.A))"
   ]
  },
  {
   "cell_type": "code",
   "execution_count": 12,
   "metadata": {},
   "outputs": [],
   "source": [
    "node = 0\n",
    "route = []\n",
    "for i in model.N:\n",
    "    for j in model.N:\n",
    "        if node == j:\n",
    "            continue\n",
    "        elif np.isclose(model.X[node, j].value, 1, atol=1e-1):\n",
    "            route.append(node)\n",
    "            node = j\n",
    "            break\n",
    "    if node == 0:\n",
    "        route.append(node)\n",
    "        break"
   ]
  },
  {
   "cell_type": "code",
   "execution_count": 13,
   "metadata": {},
   "outputs": [
    {
     "data": {
      "text/plain": [
       "array([  0,  10, 405, 189,  86,  32, 249, 237, 401, 380,  93,  96, 308,\n",
       "       367, 354, 102, 289, 340, 275,  22, 278, 316, 298, 250, 103, 120,\n",
       "       225, 305, 264, 255, 180,  64, 408, 186, 183, 150,  76, 286, 432,\n",
       "       409,  47, 143, 216,  95, 134, 307,  15, 290, 260, 136, 246, 214,\n",
       "       100, 166, 413,  58, 384, 388, 386,  81, 178, 361, 416, 280,  98,\n",
       "       147,  89, 196, 212, 224,  73, 221,  13, 364, 292, 179, 126, 199,\n",
       "        80, 393, 391, 110, 259, 121, 343, 244, 232,   7,  66,  44,   9,\n",
       "       149, 148, 132, 251, 376, 313, 374, 368, 412, 203,  79, 210, 118,\n",
       "       213, 294,   4,   1, 125,  52, 399, 320, 142,  97, 122, 222, 141,\n",
       "       397, 355, 115,  34, 288, 226, 403, 365, 359, 197,  92,  74, 228,\n",
       "       268, 234, 327, 310,  17, 124, 239,   8,  83, 315, 346, 318, 271,\n",
       "       209, 116, 211,  48, 415, 193, 379, 363, 205, 395, 431,  87,  28,\n",
       "       356,  40, 245, 366, 282, 106, 167,  61,  16, 235, 101, 284, 247,\n",
       "       202, 176, 394,  20, 430, 418, 358, 190, 104, 333, 339, 423, 175,\n",
       "       321, 123, 417, 390, 325, 238, 345,  62, 326, 263, 231, 127,  54,\n",
       "       291, 241, 270,   6,  65, 256, 334, 227, 342, 283, 272, 410, 383,\n",
       "       217,  77, 287, 146, 352, 119, 144, 382, 261, 301, 242, 262, 169,\n",
       "       266, 293, 353, 420, 111, 130, 411, 427, 392, 152, 151,  85, 306,\n",
       "       194,  91, 406, 389, 381, 433, 428, 426, 400, 117,   5, 303, 279,\n",
       "       277, 360, 168, 173, 218, 344, 113, 324, 206, 177, 198, 139, 441,\n",
       "       437, 436, 434, 414,  26, 329, 215, 331, 200, 158, 105, 357, 258,\n",
       "       191, 223, 338, 295, 219, 133,  42, 187, 309, 257, 155, 108, 349,\n",
       "       332, 208, 229,  70,  31, 396, 336,  60, 422, 129,  88, 160,  84,\n",
       "        55, 163, 153, 188, 440, 371, 109, 107, 159,  72,  18,  29, 281,\n",
       "       269,  11, 370, 154, 297, 192,  46, 230, 240, 195, 182,  37, 184,\n",
       "       254, 253, 207, 174,  14,  56, 362,  45,  69, 135,  12,  41,  63,\n",
       "       425, 424, 350, 252, 404, 311, 323, 128, 140, 387,  90,  36, 372,\n",
       "       337, 429,  35,  75, 156, 347, 248, 236, 377, 319, 220, 204,  67,\n",
       "       267, 369, 317,  51, 296, 273, 402, 162,  94,  39, 407,  68,  50,\n",
       "       385, 201, 285,  57, 161, 138, 439,  38, 421, 438,  53,  27, 165,\n",
       "       419, 302, 170, 112,  49, 312, 181, 172, 171, 341, 114, 299, 330,\n",
       "       314,  71, 300,  24,  43,  99,  59, 435, 157,  23, 274, 373, 137,\n",
       "        78, 328, 351,  82, 145, 398,   2, 375, 304, 131, 335,  21, 185,\n",
       "       378, 164,   3, 276,  19, 322, 243, 233, 442, 265,  25, 348,  30,\n",
       "        33,   0])"
      ]
     },
     "execution_count": 13,
     "metadata": {},
     "output_type": "execute_result"
    }
   ],
   "source": [
    "np.array(route)"
   ]
  },
  {
   "cell_type": "code",
   "execution_count": 14,
   "metadata": {},
   "outputs": [
    {
     "data": {
      "text/plain": [
       "444"
      ]
     },
     "execution_count": 14,
     "metadata": {},
     "output_type": "execute_result"
    }
   ],
   "source": [
    "len(route)"
   ]
  }
 ],
 "metadata": {
  "kernelspec": {
   "display_name": "Opti",
   "language": "python",
   "name": "python3"
  },
  "language_info": {
   "codemirror_mode": {
    "name": "ipython",
    "version": 3
   },
   "file_extension": ".py",
   "mimetype": "text/x-python",
   "name": "python",
   "nbconvert_exporter": "python",
   "pygments_lexer": "ipython3",
   "version": "3.9.19"
  }
 },
 "nbformat": 4,
 "nbformat_minor": 2
}
