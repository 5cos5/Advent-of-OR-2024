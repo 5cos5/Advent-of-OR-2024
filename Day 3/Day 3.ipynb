{
 "cells": [
  {
   "cell_type": "code",
   "execution_count": 142,
   "metadata": {},
   "outputs": [],
   "source": [
    "import pyomo.environ as pyo\n",
    "\n",
    "from scipy.spatial.distance import pdist, squareform\n",
    "\n",
    "import numpy as np\n",
    "import matplotlib.pyplot as plt\n",
    "import matplotlib as mpl\n",
    "\n",
    "import time\n",
    "from itertools import cycle\n",
    "\n",
    "#from pyomo.contrib.appsi.solvers import Highs\n",
    "# import gurobipy\n",
    "import pandas as pd"
   ]
  },
  {
   "cell_type": "code",
   "execution_count": 143,
   "metadata": {},
   "outputs": [
    {
     "data": {
      "text/plain": [
       "(10400,)"
      ]
     },
     "execution_count": 143,
     "metadata": {},
     "output_type": "execute_result"
    }
   ],
   "source": [
    "data = pd.read_csv('data.csv',header = None)\n",
    "data = data.to_numpy().flatten()\n",
    "data.shape"
   ]
  },
  {
   "cell_type": "code",
   "execution_count": 144,
   "metadata": {},
   "outputs": [
    {
     "data": {
      "text/plain": [
       "array([[52., 89., 40., ..., 29., 46., 69.],\n",
       "       [20., 17., 80., ..., 76., 88., 92.],\n",
       "       [17., 34., 50., ..., 76., 39., 31.],\n",
       "       ...,\n",
       "       [10., 90., 89., ..., 23., 57., 79.],\n",
       "       [45., 50., 73., ..., 11., 44., 29.],\n",
       "       [60., 25., 73., ..., 64., 76.,  4.]])"
      ]
     },
     "execution_count": 144,
     "metadata": {},
     "output_type": "execute_result"
    }
   ],
   "source": [
    "data = data[~np.isnan(data)]\n",
    "data = data.reshape((100,100))\n",
    "data"
   ]
  },
  {
   "cell_type": "code",
   "execution_count": 145,
   "metadata": {},
   "outputs": [],
   "source": [
    "A = 100\n",
    "R = 100"
   ]
  },
  {
   "cell_type": "code",
   "execution_count": 147,
   "metadata": {},
   "outputs": [
    {
     "data": {
      "text/plain": [
       "51.0"
      ]
     },
     "execution_count": 147,
     "metadata": {},
     "output_type": "execute_result"
    }
   ],
   "source": [
    "data[50,5]"
   ]
  },
  {
   "cell_type": "code",
   "execution_count": 148,
   "metadata": {},
   "outputs": [],
   "source": [
    "model = pyo.ConcreteModel()"
   ]
  },
  {
   "cell_type": "code",
   "execution_count": 149,
   "metadata": {},
   "outputs": [],
   "source": [
    "model.I = pyo.Set(initialize = range(A)) # set of jobs to be done\n",
    "model.J = pyo.Set(initialize = range(R)) # set of workers"
   ]
  },
  {
   "cell_type": "markdown",
   "metadata": {},
   "source": [
    "## Variables"
   ]
  },
  {
   "cell_type": "code",
   "execution_count": 150,
   "metadata": {},
   "outputs": [],
   "source": [
    "model.X = pyo.Var(model.I, model.J ,within=pyo.Binary)"
   ]
  },
  {
   "cell_type": "markdown",
   "metadata": {},
   "source": [
    "## Constraints"
   ]
  },
  {
   "cell_type": "code",
   "execution_count": 151,
   "metadata": {},
   "outputs": [],
   "source": [
    "def one_job_per_worker(model,j):\n",
    "    return sum(model.X[i,j] for i in model.I) ==1 \n",
    "model.one_job_per_worker = pyo.Constraint(model.J, rule=one_job_per_worker)\n",
    "\n",
    "def one_worker_per_job(model,i):\n",
    "    return sum(model.X[i,j] for j in model.J) ==1 \n",
    "model.one_worker_per_job = pyo.Constraint(model.I, rule=one_worker_per_job)"
   ]
  },
  {
   "cell_type": "code",
   "execution_count": 152,
   "metadata": {},
   "outputs": [],
   "source": [
    "model.obj = pyo.Objective(\n",
    "    expr = sum(model.X[i,j] * data[i,j]  \n",
    "    for i in model.I\n",
    "    for j in model.J),\n",
    "    sense = pyo.minimize,\n",
    ")"
   ]
  },
  {
   "cell_type": "code",
   "execution_count": null,
   "metadata": {},
   "outputs": [
    {
     "name": "stdout",
     "output_type": "stream",
     "text": [
      "Running HiGHS 1.8.1 (git hash: 4a7f24a): Copyright (c) 2024 HiGHS under MIT licence terms\n",
      "Coefficient ranges:\n",
      "  Matrix [1e+00, 1e+00]\n",
      "  Cost   [1e+00, 1e+02]\n",
      "  Bound  [1e+00, 1e+00]\n",
      "  RHS    [1e+00, 1e+00]\n",
      "Presolving model\n",
      "200 rows, 10000 cols, 20000 nonzeros  0s\n",
      "200 rows, 10000 cols, 20000 nonzeros  0s\n",
      "Objective function is integral with scale 1\n",
      "\n",
      "Solving MIP model with:\n",
      "   200 rows\n",
      "   10000 cols (10000 binary, 0 integer, 0 implied int., 0 continuous)\n",
      "   20000 nonzeros\n",
      "MIP-Timing:        0.11 - starting analytic centre calculation\n",
      "\n",
      "Src: B => Branching; C => Central rounding; F => Feasibility pump; H => Heuristic; L => Sub-MIP;\n",
      "     P => Empty MIP; R => Randomized rounding; S => Solve LP; T => Evaluate node; U => Unbounded;\n",
      "     z => Trivial zero; l => Trivial lower; u => Trivial upper; p => Trivial point\n",
      "\n",
      "        Nodes      |    B&B Tree     |            Objective Bounds              |  Dynamic Constraints |       Work      \n",
      "Src  Proc. InQueue |  Leaves   Expl. | BestBound       BestSol              Gap |   Cuts   InLp Confl. | LpIters     Time\n",
      "\n",
      "         0       0         0   0.00%   0               inf                  inf        0      0      0         0     0.1s\n",
      " T       0       0         0   0.00%   0               305              100.00%        0      0      0       260     0.2s\n",
      "         1       0         1 100.00%   305             305                0.00%        0      0      0       260     0.2s\n",
      "\n",
      "Solving report\n",
      "  Status            Optimal\n",
      "  Primal bound      305\n",
      "  Dual bound        305\n",
      "  Gap               0% (tolerance: 0.01%)\n",
      "  P-D integral      0.000739599927329\n",
      "  Solution status   feasible\n",
      "                    305 (objective)\n",
      "                    0 (bound viol.)\n",
      "                    0 (int. viol.)\n",
      "                    0 (row viol.)\n",
      "  Timing            0.15 (total)\n",
      "                    0.00 (presolve)\n",
      "                    0.00 (solve)\n",
      "                    0.00 (postsolve)\n",
      "  Max sub-MIP depth 0\n",
      "  Nodes             1\n",
      "  Repair LPs        0 (0 feasible; 0 iterations)\n",
      "  LP iterations     260 (total)\n",
      "                    0 (strong br.)\n",
      "                    0 (separation)\n",
      "                    0 (heuristics)\n"
     ]
    }
   ],
   "source": [
    "TIME_LIMIT = 60\n",
    "THREADS = 4\n",
    "\n",
    "SOVLER_ENGINE = 'appsi_highs'\n",
    "#solvers glpk  appsi_highs cplex gurobi gurobi_persistent\n",
    "\n",
    "solver = pyo.SolverFactory(SOVLER_ENGINE)\n",
    "\n",
    "if SOVLER_ENGINE == 'cbc':\n",
    "        solver.options['seconds'] = TIME_LIMIT\n",
    "elif SOVLER_ENGINE == 'glpk':\n",
    "        solver.options['tmlim'] = TIME_LIMIT\n",
    "elif SOVLER_ENGINE == 'appsi_highs':\n",
    "        solver.options['time_limit'] = TIME_LIMIT\n",
    "        #solver.options['parallel'] = True\n",
    "        solver.options['threads'] = THREADS\n",
    "elif SOVLER_ENGINE == 'cplex':\n",
    "        solver.options['timelimit'] = TIME_LIMIT\n",
    "        solver.options['threads'] = THREADS\n",
    "elif SOVLER_ENGINE == 'gurobi':\n",
    "        solver.options['timelimit'] = TIME_LIMIT\n",
    "        solver.options['threads'] = THREADS\n",
    "elif SOVLER_ENGINE == 'gurobi_persistent':\n",
    "        solver.options['timelimit'] = TIME_LIMIT\n",
    "        solver.options['threads'] = THREADS\n",
    "        solver.set_instance(model) # remove model from  solver.solve(tee=True)\n",
    "        solver.set_gurobi_param(\"PoolSolutions\", 500)\n",
    "        solver.set_gurobi_param(\"PoolSearchMode\", 0)\n",
    "# sol = solver.solve(tee= True)\n",
    "sol = solver.solve(model, tee= True) #, warmstart=True , logfile= 'log.txt'"
   ]
  },
  {
   "cell_type": "code",
   "execution_count": 154,
   "metadata": {},
   "outputs": [
    {
     "name": "stdout",
     "output_type": "stream",
     "text": [
      "ok\n",
      "optimal\n",
      "305.0\n"
     ]
    }
   ],
   "source": [
    "print(sol.solver.status)\n",
    "print(sol.solver.termination_condition)\n",
    "print (model.obj())"
   ]
  },
  {
   "cell_type": "code",
   "execution_count": 155,
   "metadata": {},
   "outputs": [
    {
     "name": "stdout",
     "output_type": "stream",
     "text": [
      "Job: 1 assigned to worker: 78 cost: 6.0\n",
      "Job: 2 assigned to worker: 7 cost: 4.0\n",
      "Job: 3 assigned to worker: 30 cost: 2.0\n",
      "Job: 4 assigned to worker: 40 cost: 2.0\n",
      "Job: 5 assigned to worker: 76 cost: 2.0\n",
      "Job: 6 assigned to worker: 18 cost: 4.0\n",
      "Job: 7 assigned to worker: 85 cost: 3.0\n",
      "Job: 8 assigned to worker: 32 cost: 5.0\n",
      "Job: 9 assigned to worker: 10 cost: 2.0\n",
      "Job: 10 assigned to worker: 28 cost: 5.0\n",
      "Job: 11 assigned to worker: 58 cost: 4.0\n",
      "Job: 12 assigned to worker: 73 cost: 4.0\n",
      "Job: 13 assigned to worker: 14 cost: 2.0\n",
      "Job: 14 assigned to worker: 1 cost: 3.0\n",
      "Job: 15 assigned to worker: 71 cost: 2.0\n",
      "Job: 16 assigned to worker: 67 cost: 4.0\n",
      "Job: 17 assigned to worker: 24 cost: 2.0\n",
      "Job: 18 assigned to worker: 86 cost: 5.0\n",
      "Job: 19 assigned to worker: 5 cost: 3.0\n",
      "Job: 20 assigned to worker: 95 cost: 2.0\n",
      "Job: 21 assigned to worker: 96 cost: 4.0\n",
      "Job: 22 assigned to worker: 65 cost: 2.0\n",
      "Job: 23 assigned to worker: 19 cost: 4.0\n",
      "Job: 24 assigned to worker: 94 cost: 3.0\n",
      "Job: 25 assigned to worker: 56 cost: 3.0\n",
      "Job: 26 assigned to worker: 82 cost: 6.0\n",
      "Job: 27 assigned to worker: 70 cost: 3.0\n",
      "Job: 28 assigned to worker: 84 cost: 3.0\n",
      "Job: 29 assigned to worker: 75 cost: 2.0\n",
      "Job: 30 assigned to worker: 22 cost: 5.0\n",
      "Job: 31 assigned to worker: 46 cost: 4.0\n",
      "Job: 32 assigned to worker: 66 cost: 2.0\n",
      "Job: 33 assigned to worker: 91 cost: 6.0\n",
      "Job: 34 assigned to worker: 72 cost: 3.0\n",
      "Job: 35 assigned to worker: 98 cost: 3.0\n",
      "Job: 36 assigned to worker: 2 cost: 3.0\n",
      "Job: 37 assigned to worker: 87 cost: 2.0\n",
      "Job: 38 assigned to worker: 83 cost: 3.0\n",
      "Job: 39 assigned to worker: 99 cost: 4.0\n",
      "Job: 40 assigned to worker: 60 cost: 4.0\n",
      "Job: 41 assigned to worker: 29 cost: 2.0\n",
      "Job: 42 assigned to worker: 77 cost: 4.0\n",
      "Job: 43 assigned to worker: 62 cost: 2.0\n",
      "Job: 44 assigned to worker: 89 cost: 2.0\n",
      "Job: 45 assigned to worker: 38 cost: 2.0\n",
      "Job: 46 assigned to worker: 81 cost: 3.0\n",
      "Job: 47 assigned to worker: 26 cost: 3.0\n",
      "Job: 48 assigned to worker: 49 cost: 2.0\n",
      "Job: 49 assigned to worker: 3 cost: 2.0\n",
      "Job: 50 assigned to worker: 37 cost: 3.0\n",
      "Job: 51 assigned to worker: 17 cost: 2.0\n",
      "Job: 52 assigned to worker: 33 cost: 2.0\n",
      "Job: 53 assigned to worker: 9 cost: 2.0\n",
      "Job: 54 assigned to worker: 54 cost: 2.0\n",
      "Job: 55 assigned to worker: 15 cost: 2.0\n",
      "Job: 56 assigned to worker: 74 cost: 1.0\n",
      "Job: 57 assigned to worker: 47 cost: 2.0\n",
      "Job: 58 assigned to worker: 59 cost: 2.0\n",
      "Job: 59 assigned to worker: 80 cost: 2.0\n",
      "Job: 60 assigned to worker: 8 cost: 2.0\n",
      "Job: 61 assigned to worker: 79 cost: 4.0\n",
      "Job: 62 assigned to worker: 48 cost: 2.0\n",
      "Job: 63 assigned to worker: 23 cost: 2.0\n",
      "Job: 64 assigned to worker: 42 cost: 4.0\n",
      "Job: 65 assigned to worker: 44 cost: 3.0\n",
      "Job: 66 assigned to worker: 12 cost: 3.0\n",
      "Job: 67 assigned to worker: 93 cost: 4.0\n",
      "Job: 68 assigned to worker: 39 cost: 2.0\n",
      "Job: 69 assigned to worker: 4 cost: 4.0\n",
      "Job: 70 assigned to worker: 51 cost: 2.0\n",
      "Job: 71 assigned to worker: 35 cost: 3.0\n",
      "Job: 72 assigned to worker: 64 cost: 2.0\n",
      "Job: 73 assigned to worker: 31 cost: 4.0\n",
      "Job: 74 assigned to worker: 90 cost: 3.0\n",
      "Job: 75 assigned to worker: 43 cost: 3.0\n",
      "Job: 76 assigned to worker: 88 cost: 2.0\n",
      "Job: 77 assigned to worker: 57 cost: 3.0\n",
      "Job: 78 assigned to worker: 16 cost: 5.0\n",
      "Job: 79 assigned to worker: 41 cost: 4.0\n",
      "Job: 80 assigned to worker: 50 cost: 2.0\n",
      "Job: 81 assigned to worker: 61 cost: 5.0\n",
      "Job: 82 assigned to worker: 25 cost: 3.0\n",
      "Job: 83 assigned to worker: 20 cost: 4.0\n",
      "Job: 84 assigned to worker: 55 cost: 4.0\n",
      "Job: 85 assigned to worker: 97 cost: 5.0\n",
      "Job: 86 assigned to worker: 63 cost: 3.0\n",
      "Job: 87 assigned to worker: 92 cost: 4.0\n",
      "Job: 88 assigned to worker: 27 cost: 3.0\n",
      "Job: 89 assigned to worker: 11 cost: 2.0\n",
      "Job: 90 assigned to worker: 36 cost: 2.0\n",
      "Job: 91 assigned to worker: 52 cost: 2.0\n",
      "Job: 92 assigned to worker: 53 cost: 5.0\n",
      "Job: 93 assigned to worker: 69 cost: 2.0\n",
      "Job: 94 assigned to worker: 34 cost: 2.0\n",
      "Job: 95 assigned to worker: 45 cost: 3.0\n",
      "Job: 96 assigned to worker: 21 cost: 3.0\n",
      "Job: 97 assigned to worker: 13 cost: 2.0\n",
      "Job: 98 assigned to worker: 6 cost: 3.0\n",
      "Job: 99 assigned to worker: 68 cost: 4.0\n",
      "Job: 100 assigned to worker: 100 cost: 4.0\n"
     ]
    }
   ],
   "source": [
    "node = 1\n",
    "worker_list = []\n",
    "jobs_list = []\n",
    "for i in model.I:\n",
    "    for j in model.J:\n",
    "        if np.isclose(model.X[i, j].value, 1, atol=1e-1):\n",
    "                worker_list.append(i)\n",
    "                if j in jobs_list:\n",
    "                     print('ERROR')\n",
    "                else:\n",
    "                     jobs_list.append(j)\n",
    "                print ('Job:',i+1, \"assigned to worker:\", j+1, 'cost:' ,data[i,j])\n"
   ]
  }
 ],
 "metadata": {
  "kernelspec": {
   "display_name": "Opti",
   "language": "python",
   "name": "python3"
  },
  "language_info": {
   "codemirror_mode": {
    "name": "ipython",
    "version": 3
   },
   "file_extension": ".py",
   "mimetype": "text/x-python",
   "name": "python",
   "nbconvert_exporter": "python",
   "pygments_lexer": "ipython3",
   "version": "3.9.19"
  }
 },
 "nbformat": 4,
 "nbformat_minor": 2
}
